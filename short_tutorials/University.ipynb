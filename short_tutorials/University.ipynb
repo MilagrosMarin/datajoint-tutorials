{
 "cells": [
  {
   "cell_type": "code",
   "execution_count": null,
   "metadata": {
    "slideshow": {
     "slide_type": "slide"
    }
   },
   "outputs": [],
   "source": [
    "import datajoint as dj"
   ]
  },
  {
   "cell_type": "markdown",
   "metadata": {},
   "source": [
    "# Define"
   ]
  },
  {
   "cell_type": "code",
   "execution_count": null,
   "metadata": {
    "slideshow": {
     "slide_type": "subslide"
    }
   },
   "outputs": [],
   "source": [
    "schema = dj.schema(\"university\")"
   ]
  },
  {
   "cell_type": "code",
   "execution_count": null,
   "metadata": {},
   "outputs": [],
   "source": [
    "@schema\n",
    "class Student(dj.Manual):\n",
    "    definition = \"\"\"\n",
    "    student_id : int unsigned   # university-wide ID number\n",
    "    ---\n",
    "    first_name      : varchar(40)\n",
    "    last_name       : varchar(40)\n",
    "    sex             : enum('F', 'M', 'U')\n",
    "    date_of_birth   : date\n",
    "    home_address    : varchar(120) # mailing street address\n",
    "    home_city       : varchar(60)  # mailing address\n",
    "    home_state      : char(2)      # US state acronym: e.g. OH\n",
    "    home_zip        : char(10)     # zipcode e.g. 93979-4979\n",
    "    home_phone      : varchar(20)  # e.g. 414.657.6883x0881\n",
    "    \"\"\""
   ]
  },
  {
   "cell_type": "code",
   "execution_count": null,
   "metadata": {},
   "outputs": [],
   "source": [
    "@schema\n",
    "class Department(dj.Manual):\n",
    "    definition = \"\"\"\n",
    "    dept : varchar(6)   # abbreviated department name, e.g. BIOL\n",
    "    ---\n",
    "    dept_name    : varchar(200)  # full department name\n",
    "    dept_address : varchar(200)  # mailing address\n",
    "    dept_phone   : varchar(20)\n",
    "    \"\"\""
   ]
  },
  {
   "cell_type": "code",
   "execution_count": null,
   "metadata": {},
   "outputs": [],
   "source": [
    "@schema\n",
    "class StudentMajor(dj.Manual):\n",
    "    definition = \"\"\"\n",
    "    -> Student\n",
    "    ---\n",
    "    -> Department\n",
    "    declare_date :  date  # when student declared her major\n",
    "    \"\"\""
   ]
  },
  {
   "cell_type": "code",
   "execution_count": null,
   "metadata": {},
   "outputs": [],
   "source": [
    "dj.Diagram(schema)"
   ]
  },
  {
   "cell_type": "code",
   "execution_count": null,
   "metadata": {
    "slideshow": {
     "slide_type": "slide"
    }
   },
   "outputs": [],
   "source": [
    "@schema\n",
    "class Course(dj.Manual):\n",
    "    definition = \"\"\"\n",
    "    -> Department\n",
    "    course  : int unsigned   # course number, e.g. 1010\n",
    "    ---\n",
    "    course_name :  varchar(200)  # e.g. \"Neurobiology of Sensation and Movement.\"\n",
    "    credits     :  decimal(3,1)  # number of credits earned by completing the course\n",
    "    \"\"\"\n",
    "\n",
    "\n",
    "@schema\n",
    "class Term(dj.Manual):\n",
    "    definition = \"\"\"\n",
    "    term_year : year\n",
    "    term      : enum('Spring', 'Summer', 'Fall')\n",
    "    \"\"\"\n",
    "\n",
    "\n",
    "@schema\n",
    "class Section(dj.Manual):\n",
    "    definition = \"\"\"\n",
    "    -> Course\n",
    "    -> Term\n",
    "    section : char(1)\n",
    "    ---\n",
    "    auditorium   :  varchar(12)\n",
    "    \"\"\"\n",
    "\n",
    "\n",
    "@schema\n",
    "class CurrentTerm(dj.Manual):\n",
    "    definition = \"\"\"\n",
    "    -> Term\n",
    "    \"\"\"\n",
    "\n",
    "\n",
    "@schema\n",
    "class Enroll(dj.Manual):\n",
    "    definition = \"\"\"\n",
    "    -> Student\n",
    "    -> Section\n",
    "    \"\"\"\n",
    "\n",
    "\n",
    "@schema\n",
    "class LetterGrade(dj.Manual):\n",
    "    definition = \"\"\"\n",
    "    grade : char(2)\n",
    "    ---\n",
    "    points : decimal(3,2)\n",
    "    \"\"\"\n",
    "\n",
    "\n",
    "@schema\n",
    "class Grade(dj.Manual):\n",
    "    definition = \"\"\"\n",
    "    -> Enroll\n",
    "    ---\n",
    "    -> LetterGrade\n",
    "    \"\"\""
   ]
  },
  {
   "cell_type": "code",
   "execution_count": null,
   "metadata": {},
   "outputs": [],
   "source": [
    "dj.Diagram(schema)"
   ]
  },
  {
   "cell_type": "code",
   "execution_count": null,
   "metadata": {},
   "outputs": [],
   "source": [
    "from tqdm import tqdm\n",
    "import faker\n",
    "import random\n",
    "import itertools\n",
    "import datetime\n",
    "\n",
    "fake = faker.Faker()"
   ]
  },
  {
   "cell_type": "code",
   "execution_count": null,
   "metadata": {},
   "outputs": [],
   "source": [
    "def yield_students():\n",
    "    fake_name = {\"F\": fake.name_female, \"M\": fake.name_male}\n",
    "    while True:  # ignore invalid values\n",
    "        try:\n",
    "            sex = random.choice((\"F\", \"M\"))\n",
    "            first_name, last_name = fake_name[sex]().split(\" \")[:2]\n",
    "            street_address, city = fake.address().split(\"\\n\")\n",
    "            city, state = city.split(\", \")\n",
    "            state, zipcode = state.split(\" \")\n",
    "        except ValueError:\n",
    "            continue\n",
    "        else:\n",
    "            yield dict(\n",
    "                first_name=first_name,\n",
    "                last_name=last_name,\n",
    "                sex=sex,\n",
    "                home_address=street_address,\n",
    "                home_city=city,\n",
    "                home_state=state,\n",
    "                home_zip=zipcode,\n",
    "                date_of_birth=str(\n",
    "                    fake.date_time_between(start_date=\"-35y\", end_date=\"-15y\").date()\n",
    "                ),\n",
    "                home_phone=fake.phone_number()[:20],\n",
    "            )"
   ]
  },
  {
   "cell_type": "code",
   "execution_count": null,
   "metadata": {},
   "outputs": [],
   "source": [
    "Student.insert(dict(k, student_id=i) for i, k in zip(range(100, 300), yield_students()))"
   ]
  },
  {
   "cell_type": "code",
   "execution_count": null,
   "metadata": {},
   "outputs": [],
   "source": [
    "Student()"
   ]
  },
  {
   "cell_type": "code",
   "execution_count": null,
   "metadata": {},
   "outputs": [],
   "source": [
    "Department.insert(\n",
    "    dict(\n",
    "        dept=dept,\n",
    "        dept_name=name,\n",
    "        dept_address=fake.address(),\n",
    "        dept_phone=fake.phone_number()[:20],\n",
    "    )\n",
    "    for dept, name in [\n",
    "        [\"CS\", \"Computer Science\"],\n",
    "        [\"BIOL\", \"Life Sciences\"],\n",
    "        [\"PHYS\", \"Physics\"],\n",
    "        [\"MATH\", \"Mathematics\"],\n",
    "    ]\n",
    ")"
   ]
  },
  {
   "cell_type": "code",
   "execution_count": null,
   "metadata": {},
   "outputs": [],
   "source": [
    "StudentMajor.insert(\n",
    "    {**s, **d, \"declare_date\": fake.date_between(start_date=datetime.date(1999, 1, 1))}\n",
    "    for s, d in zip(\n",
    "        Student.fetch(\"KEY\"), random.choices(Department.fetch(\"KEY\"), k=len(Student()))\n",
    "    )\n",
    "    if random.random() < 0.75\n",
    ")"
   ]
  },
  {
   "cell_type": "code",
   "execution_count": null,
   "metadata": {},
   "outputs": [],
   "source": [
    "StudentMajor()"
   ]
  },
  {
   "cell_type": "code",
   "execution_count": null,
   "metadata": {},
   "outputs": [],
   "source": [
    "# from https://www.utah.edu/\n",
    "Course.insert(\n",
    "    [\n",
    "        [\"BIOL\", 1006, \"World of Dinosaurs\", 3],\n",
    "        [\"BIOL\", 1010, \"Biology in the 21st Century\", 3],\n",
    "        [\"BIOL\", 1030, \"Human Biology\", 3],\n",
    "        [\"BIOL\", 1210, \"Principles of Biology\", 4],\n",
    "        [\"BIOL\", 2010, \"Evolution & Diversity of Life\", 3],\n",
    "        [\"BIOL\", 2020, \"Principles of Cell Biology\", 3],\n",
    "        [\"BIOL\", 2021, \"Principles of Cell Science\", 4],\n",
    "        [\"BIOL\", 2030, \"Principles of Genetics\", 3],\n",
    "        [\"BIOL\", 2210, \"Human Genetics\", 3],\n",
    "        [\"BIOL\", 2325, \"Human Anatomy\", 4],\n",
    "        [\"BIOL\", 2330, \"Plants & Society\", 3],\n",
    "        [\"BIOL\", 2355, \"Field Botany\", 2],\n",
    "        [\"BIOL\", 2420, \"Human Physiology\", 4],\n",
    "        [\"PHYS\", 2040, \"Classcal Theoretical Physics II\", 4],\n",
    "        [\"PHYS\", 2060, \"Quantum Mechanics\", 3],\n",
    "        [\"PHYS\", 2100, \"General Relativity and Cosmology\", 3],\n",
    "        [\"PHYS\", 2140, \"Statistical Mechanics\", 4],\n",
    "        [\"PHYS\", 2210, \"Physics for Scientists and Engineers I\", 4],\n",
    "        [\"PHYS\", 2220, \"Physics for Scientists and Engineers II\", 4],\n",
    "        [\"PHYS\", 3210, \"Physics for Scientists I (Honors)\", 4],\n",
    "        [\"PHYS\", 3220, \"Physics for Scientists II (Honors)\", 4],\n",
    "        [\"MATH\", 1250, \"Calculus for AP Students I\", 4],\n",
    "        [\"MATH\", 1260, \"Calculus for AP Students II\", 4],\n",
    "        [\"MATH\", 1210, \"Calculus I\", 4],\n",
    "        [\"MATH\", 1220, \"Calculus II\", 4],\n",
    "        [\"MATH\", 2210, \"Calculus III\", 3],\n",
    "        [\"MATH\", 2270, \"Linear Algebra\", 4],\n",
    "        [\"MATH\", 2280, \"Introduction to Differential Equations\", 4],\n",
    "        [\"MATH\", 3210, \"Foundations of Analysis I\", 4],\n",
    "        [\"MATH\", 3220, \"Foundations of Analysis II\", 4],\n",
    "        [\"CS\", 1030, \"Foundations of Computer Science\", 3],\n",
    "        [\"CS\", 1410, \"Introduction to Object-Oriented Programming\", 4],\n",
    "        [\"CS\", 2420, \"Introduction to Algorithms & Data Structures\", 4],\n",
    "        [\"CS\", 2100, \"Discrete Structures\", 3],\n",
    "        [\"CS\", 3500, \"Software Practice\", 4],\n",
    "        [\"CS\", 3505, \"Software Practice II\", 3],\n",
    "        [\"CS\", 3810, \"Computer Organization\", 4],\n",
    "        [\"CS\", 4400, \"Computer Systems\", 4],\n",
    "        [\"CS\", 4150, \"Algorithms\", 3],\n",
    "        [\"CS\", 3100, \"Models of Computation\", 3],\n",
    "        [\"CS\", 3200, \"Introduction to Scientific Computing\", 3],\n",
    "        [\"CS\", 4000, \"Senior Capstone Project - Design Phase\", 3],\n",
    "        [\"CS\", 4500, \"Senior Capstone Project\", 3],\n",
    "        [\"CS\", 4940, \"Undergraduate Research\", 3],\n",
    "        [\"CS\", 4970, \"Computer Science Bachelor\" \"s Thesis\", 3],\n",
    "    ]\n",
    ")"
   ]
  },
  {
   "cell_type": "code",
   "execution_count": null,
   "metadata": {},
   "outputs": [],
   "source": [
    "Term.insert(\n",
    "    dict(term_year=year, term=term)\n",
    "    for year in range(1999, 2019)\n",
    "    for term in [\"Spring\", \"Summer\", \"Fall\"]\n",
    ")\n",
    "\n",
    "Term().fetch(order_by=(\"term_year DESC\", \"term DESC\"), as_dict=True, limit=1)[0]\n",
    "\n",
    "CurrentTerm().insert1(\n",
    "    {**Term().fetch(order_by=(\"term_year DESC\", \"term DESC\"), as_dict=True, limit=1)[0]}\n",
    ")\n",
    "\n",
    "\n",
    "def make_section(prob):\n",
    "    for c in (Course * Term).proj():\n",
    "        for sec in \"abcd\":\n",
    "            if random.random() < prob:\n",
    "                break\n",
    "            yield {\n",
    "                **c,\n",
    "                \"section\": sec,\n",
    "                \"auditorium\": random.choice(\"ABCDEF\") + str(random.randint(1, 100)),\n",
    "            }\n",
    "\n",
    "\n",
    "Section.insert(make_section(0.5))"
   ]
  },
  {
   "cell_type": "code",
   "execution_count": null,
   "metadata": {},
   "outputs": [],
   "source": [
    "LetterGrade.insert(\n",
    "    [\n",
    "        [\"A\", 4.00],\n",
    "        [\"A-\", 3.67],\n",
    "        [\"B+\", 3.33],\n",
    "        [\"B\", 3.00],\n",
    "        [\"B-\", 2.67],\n",
    "        [\"C+\", 2.33],\n",
    "        [\"C\", 2.00],\n",
    "        [\"C-\", 1.67],\n",
    "        [\"D+\", 1.33],\n",
    "        [\"D\", 1.00],\n",
    "        [\"F\", 0.00],\n",
    "    ]\n",
    ")"
   ]
  },
  {
   "cell_type": "code",
   "execution_count": null,
   "metadata": {},
   "outputs": [],
   "source": [
    "# Enrollment\n",
    "terms = Term().fetch(\"KEY\")\n",
    "quit_prob = 0.1\n",
    "for student in tqdm(Student.fetch(\"KEY\")):\n",
    "    start_term = random.randrange(len(terms))\n",
    "    for term in terms[start_term:]:\n",
    "        if random.random() < quit_prob:\n",
    "            break\n",
    "        else:\n",
    "            sections = ((Section & term) - (Course & (Enroll & student))).fetch(\"KEY\")\n",
    "            if sections:\n",
    "                Enroll.insert(\n",
    "                    {**student, **section}\n",
    "                    for section in random.sample(\n",
    "                        sections, random.randrange(min(5, len(sections)))\n",
    "                    )\n",
    "                )"
   ]
  },
  {
   "cell_type": "code",
   "execution_count": null,
   "metadata": {},
   "outputs": [],
   "source": [
    "# assign random grades\n",
    "grades = LetterGrade.fetch(\"grade\")\n",
    "\n",
    "grade_keys = Enroll.fetch(\"KEY\")\n",
    "random.shuffle(grade_keys)\n",
    "grade_keys = grade_keys[: len(grade_keys) * 9 // 10]\n",
    "\n",
    "Grade.insert(\n",
    "    {**key, \"grade\": grade}\n",
    "    for key, grade in zip(grade_keys, random.choices(grades, k=len(grade_keys)))\n",
    ")"
   ]
  },
  {
   "cell_type": "code",
   "execution_count": null,
   "metadata": {},
   "outputs": [],
   "source": [
    "Enroll()"
   ]
  },
  {
   "cell_type": "markdown",
   "metadata": {},
   "source": [
    "# Queries"
   ]
  },
  {
   "cell_type": "markdown",
   "metadata": {},
   "source": [
    "## Restriction"
   ]
  },
  {
   "cell_type": "code",
   "execution_count": null,
   "metadata": {},
   "outputs": [],
   "source": [
    "# Students from Texas\n",
    "Student & {\"home_state\": \"TX\"}"
   ]
  },
  {
   "cell_type": "code",
   "execution_count": null,
   "metadata": {},
   "outputs": [],
   "source": [
    "Student & 'home_state=\"TX\"'"
   ]
  },
  {
   "cell_type": "code",
   "execution_count": null,
   "metadata": {},
   "outputs": [],
   "source": [
    "# Male students from outside Texas\n",
    "(Student & 'sex=\"M\"') - {\"home_state\": \"TX\"}"
   ]
  },
  {
   "cell_type": "code",
   "execution_count": null,
   "metadata": {},
   "outputs": [],
   "source": [
    "# Students from TX, OK, or NM\n",
    "Student & [{\"home_state\": \"OK\"}, {\"home_state\": \"NM\"}, {\"home_state\": \"TX\"}]"
   ]
  },
  {
   "cell_type": "code",
   "execution_count": null,
   "metadata": {},
   "outputs": [],
   "source": [
    "# Millennials\n",
    "millennials = Student & 'date_of_birth between \"1981-01-01\" and \"1996-12-31\"'"
   ]
  },
  {
   "cell_type": "code",
   "execution_count": null,
   "metadata": {},
   "outputs": [],
   "source": [
    "millennials"
   ]
  },
  {
   "cell_type": "code",
   "execution_count": null,
   "metadata": {},
   "outputs": [],
   "source": [
    "# Students who have taken classes\n",
    "Student & Enroll"
   ]
  },
  {
   "cell_type": "code",
   "execution_count": null,
   "metadata": {},
   "outputs": [],
   "source": [
    "# Millennials who have never enrolled\n",
    "millennials - Enroll"
   ]
  },
  {
   "cell_type": "code",
   "execution_count": null,
   "metadata": {},
   "outputs": [],
   "source": [
    "# Students who have not taken classes\n",
    "Student - Enroll"
   ]
  },
  {
   "cell_type": "code",
   "execution_count": null,
   "metadata": {},
   "outputs": [],
   "source": [
    "# Students who have taken Biology classes but no MATH courses\n",
    "(Student & (Enroll & 'dept=\"BIOL\"')) - (Enroll & 'dept=\"MATH\"')"
   ]
  },
  {
   "cell_type": "code",
   "execution_count": null,
   "metadata": {},
   "outputs": [],
   "source": [
    "# Students who have not selected a major\n",
    "Student - StudentMajor"
   ]
  },
  {
   "cell_type": "code",
   "execution_count": null,
   "metadata": {},
   "outputs": [],
   "source": [
    "# Students who are taking courses in the current term\n",
    "Student - (Enroll & CurrentTerm)"
   ]
  },
  {
   "cell_type": "code",
   "execution_count": null,
   "metadata": {},
   "outputs": [],
   "source": [
    "# Ungraded courses\n",
    "Enroll - Grade"
   ]
  },
  {
   "cell_type": "code",
   "execution_count": null,
   "metadata": {},
   "outputs": [],
   "source": [
    "# Ungraded courses in the current term\n",
    "(Enroll & CurrentTerm) - Grade"
   ]
  },
  {
   "cell_type": "code",
   "execution_count": null,
   "metadata": {},
   "outputs": [],
   "source": [
    "# Students who have taken classes and have chosen a major\n",
    "(Student & Enroll & StudentMajor)"
   ]
  },
  {
   "cell_type": "code",
   "execution_count": null,
   "metadata": {},
   "outputs": [],
   "source": [
    "# Students who have taken classes or have chosen a major\n",
    "Student & [Enroll, StudentMajor]"
   ]
  },
  {
   "cell_type": "code",
   "execution_count": null,
   "metadata": {},
   "outputs": [],
   "source": [
    "# Enrollment in courses from the same department as the students' major\n",
    "Enroll & StudentMajor"
   ]
  },
  {
   "cell_type": "markdown",
   "metadata": {},
   "source": [
    "## Join"
   ]
  },
  {
   "cell_type": "code",
   "execution_count": null,
   "metadata": {},
   "outputs": [],
   "source": [
    "# Grade point values\n",
    "Grade * LetterGrade"
   ]
  },
  {
   "cell_type": "code",
   "execution_count": null,
   "metadata": {},
   "outputs": [],
   "source": [
    "# Graded enrollments with complete course and student information\n",
    "Student * Enroll * Course * Section * Grade * LetterGrade"
   ]
  },
  {
   "cell_type": "code",
   "execution_count": null,
   "metadata": {},
   "outputs": [],
   "source": [
    "# Enrollment with major information\n",
    "Enroll * StudentMajor.proj(major=\"dept\")"
   ]
  },
  {
   "cell_type": "code",
   "execution_count": null,
   "metadata": {},
   "outputs": [],
   "source": [
    "# Enrollment outside chosen major\n",
    "Enroll * StudentMajor.proj(major=\"dept\") & \"major<>dept\""
   ]
  },
  {
   "cell_type": "code",
   "execution_count": null,
   "metadata": {},
   "outputs": [],
   "source": [
    "# Enrollment not matching major\n",
    "Enroll - StudentMajor"
   ]
  },
  {
   "cell_type": "code",
   "execution_count": null,
   "metadata": {},
   "outputs": [],
   "source": [
    "# Total grade points\n",
    "(Course * Grade * LetterGrade).proj(total=\"points*credits\")"
   ]
  },
  {
   "cell_type": "markdown",
   "metadata": {},
   "source": [
    "## Aggr"
   ]
  },
  {
   "cell_type": "code",
   "execution_count": null,
   "metadata": {},
   "outputs": [],
   "source": [
    "# Students in each section\n",
    "Section.aggr(Enroll, n=\"count(*)\")"
   ]
  },
  {
   "cell_type": "code",
   "execution_count": null,
   "metadata": {},
   "outputs": [],
   "source": [
    "# Average grade in each course\n",
    "Course.aggr(Grade * LetterGrade, avg_grade=\"avg(points)\")"
   ]
  },
  {
   "cell_type": "code",
   "execution_count": null,
   "metadata": {},
   "outputs": [],
   "source": [
    "# Fraction graded in each section\n",
    "(Section.aggr(Enroll, n=\"count(*)\") * Section.aggr(Grade, m=\"count(*)\")).proj(\n",
    "    \"m\", \"n\", frac=\"m/n\"\n",
    ")"
   ]
  },
  {
   "cell_type": "code",
   "execution_count": null,
   "metadata": {},
   "outputs": [],
   "source": [
    "# Student GPA\n",
    "Student.aggr(Course * Grade * LetterGrade, gpa=\"sum(points*credits)/sum(credits)\")"
   ]
  },
  {
   "cell_type": "code",
   "execution_count": null,
   "metadata": {},
   "outputs": [],
   "source": [
    "# Average GPA for each major\n",
    "gpa = Student.aggr(Course * Grade * LetterGrade, gpa=\"sum(points*credits)/sum(credits)\")\n",
    "Department.aggr(StudentMajor * gpa, avg_gpa=\"avg(gpa)\")"
   ]
  },
  {
   "cell_type": "code",
   "execution_count": null,
   "metadata": {},
   "outputs": [],
   "source": []
  }
 ],
 "metadata": {
  "kernelspec": {
   "display_name": "benv",
   "language": "python",
   "name": "benv"
  },
  "language_info": {
   "codemirror_mode": {
    "name": "ipython",
    "version": 3
   },
   "file_extension": ".py",
   "mimetype": "text/x-python",
   "name": "python",
   "nbconvert_exporter": "python",
   "pygments_lexer": "ipython3",
   "version": "3.10.4"
  }
 },
 "nbformat": 4,
 "nbformat_minor": 2
}
